{
 "cells": [
  {
   "cell_type": "markdown",
   "metadata": {},
   "source": [
    "# Stochastic Programming Example Using Jump and DSP"
   ]
  },
  {
   "cell_type": "markdown",
   "metadata": {},
   "source": [
    "## Farmer Crop Optimization"
   ]
  },
  {
   "cell_type": "markdown",
   "metadata": {},
   "source": [
    "## Model\n",
    "\n",
    "#### Here, we setup the data relevant to the farmer model.  We set 3 possible scenarios of equal probability, and then three sets of crops to plant with the associated costs of planting each crop.  We also define the total budget.  The second stage model data adds the possiblity to purchase and sell crops with corresponding purchase and sell prices."
   ]
  },
  {
   "cell_type": "markdown",
   "metadata": {},
   "source": [
    "This guide illustrates how to use DSP for solving the following farmer problem.\n",
    "\n",
    "\\begin{align}\n",
    "\\text{minimize} \\qquad & 150x_1+230x_2+260x_3 + \\sum_{s=1:3}\\frac{1}{3}(238y_{1s}+210y_{2s}−170y_{3s}−150y_{4s}−36y_{5s}−10y_{6s}) \\\\\n",
    " \\text{subject to} \\quad \\quad & x_1+x_2+x_3 \\leq 500 \\\\\n",
    "  \\quad \\quad & T_{1s}x_1+y_{1s}−y_{3s} \\geq 200 \\quad s=1,2,3 \\\\\n",
    "  \\quad \\quad & T_{2s}x_2+y_{2s}−y_{4s} \\geq 240 \\quad s=1,2,3 \\\\\n",
    "  \\quad \\quad & T_{3s}x_3+y_{5s}−y_{6s} \\geq 0 \\quad s=1,2,3 \\\\\n",
    "  \\quad \\quad & y_{5s} \\leq 6000 \\quad s=1,2,3 \\\\\n",
    " \\qquad \\qquad & x_1,x_2,x_3 \\geq 0, y_{1s},y_{2s},y_{3s},y_{4s},y_{5s},y_{6s}  \\geq 0  \\quad s=1,2,3\\\\\n",
    " \\qquad \\qquad & x,y \\in \\mathbb{R}\n",
    "\\end{align}\n",
    "\n",
    "where $T_{is}$ is an (i,s)(i,s)-element of matrix\n",
    "$$\n",
    "T:=  \\begin{bmatrix}\n",
    "    3.0       & 3.6 & 24.0   \\\\\n",
    "    2.5       & 3.0 & 20.0  \\\\\n",
    "    2.0       & 2.4 & 16.0 \n",
    "\\end{bmatrix}\n",
    "$$\n",
    "\n"
   ]
  },
  {
   "cell_type": "code",
   "execution_count": 14,
   "metadata": {},
   "outputs": [
    {
     "data": {
      "text/plain": [
       "\"libDsp\""
      ]
     },
     "execution_count": 14,
     "metadata": {},
     "output_type": "execute_result"
    }
   ],
   "source": [
    "Libdl.find_library([\"libDsp\"])"
   ]
  },
  {
   "cell_type": "code",
   "execution_count": 2,
   "metadata": {},
   "outputs": [],
   "source": [
    "using JuMP, Dsp"
   ]
  },
  {
   "cell_type": "code",
   "execution_count": 3,
   "metadata": {},
   "outputs": [],
   "source": [
    "NS = 3;                        # number of scenarios\n",
    "probability = [1/3, 1/3, 1/3]; # probability\n",
    "\n",
    "CROPS  = 1:3 # set of crops (wheat, corn and sugar beets, resp.)\n",
    "PURCH  = 1:2 # set of crops to purchase (wheat and corn, resp.)\n",
    "SELL   = 1:4 # set of crops to sell (wheat, corn, sugar beets under 6K and those over 6K)\n",
    "\n",
    "Cost     = [150 230 260]   # cost of planting crops\n",
    "Budget   = 500             # budget capacity\n",
    "Purchase = [238 210];      # purchase price\n",
    "Sell     = [170 150 36 10] # selling price\n",
    "Yield    = [3.0 3.6 24.0;\n",
    "            2.5 3.0 20.0;\n",
    "            2.0 2.4 16.0]\n",
    "Minreq   = [200 240 0]     # minimum crop requirement\n",
    "\n",
    "# JuMP model\n",
    "m = Model(NS)\n",
    "\n",
    "@variable(m, x[i=CROPS] >= 0, Int)\n",
    "@objective(m, Min, sum(Cost[i] * x[i] for i=CROPS))\n",
    "@constraint(m, const_budget, sum(x[i] for i=CROPS) <= Budget)\n",
    "\n",
    "for s in blockids()\n",
    "    blk = Model(m, s, probability[s])\n",
    "\n",
    "    @variable(blk, y[j=PURCH] >= 0)\n",
    "    @variable(blk, w[k=SELL] >= 0)\n",
    "\n",
    "    @objective(blk, Min, sum(Purchase[j] * y[j] for j=PURCH) - sum(Sell[k] * w[k] for k=SELL))\n",
    "\n",
    "    @constraint(blk, const_minreq[j=PURCH], Yield[s,j] * x[j] + y[j] - w[j] >= Minreq[j])\n",
    "    @constraint(blk, const_minreq_beets, Yield[s,3] * x[3] - w[3] - w[4] >= Minreq[3])\n",
    "    @constraint(blk, const_aux, w[3] <= 6000)\n",
    "end"
   ]
  },
  {
   "cell_type": "code",
   "execution_count": 12,
   "metadata": {},
   "outputs": [
    {
     "name": "stdout",
     "output_type": "stream",
     "text": [
      "Finding a good lower bound using Dual Decomposition...\n",
      "CPLEX is not available for QP solve.\n",
      "\n",
      "DUAL DECOMPOSITION ITERATION INFORMATION:\n",
      "* master   = objective function value of the master problem.\n",
      "* primobj  = best primal objective function value.\n",
      "* dualobj  = best dual objective function value.\n",
      "* a.gap(%) = Approximate gap between master and dualobj.\n",
      "* d.gap(%) = Duality gap between primobj and dualobj.\n",
      "* times    = wall clock time in seconds.\n",
      "\n",
      "  iter         master        primobj        dualobj  a.gap(%)  d.gap(%)    time\n",
      " D   0  -1.151370e+05          Large  -1.154000e+05      0.23    100.00     0.0\n",
      " D   1  -1.146110e+05          Large  -1.151370e+05      0.46    100.00     0.0\n",
      " D   2  -1.135590e+05          Large  -1.146110e+05      0.93    100.00     0.0\n",
      " D   3  -1.114550e+05          Large  -1.135590e+05      1.89    100.00     0.1\n",
      " D   4  -1.093510e+05          Large  -1.126556e+05      3.02    100.00     0.1\n",
      "     5  -1.098333e+05          Large  -1.126556e+05      2.57    100.00     0.1\n",
      " D   6  -1.087333e+05          Large  -1.119933e+05      3.00    100.00     0.1\n",
      " D   7  -1.076333e+05          Large  -1.114933e+05      3.59    100.00     0.1\n",
      " D   8  -1.065333e+05          Large  -1.112333e+05      4.41    100.00     0.1\n",
      "     9  -1.074733e+05          Large  -1.112333e+05      3.50    100.00     0.1\n",
      " D  10  -1.066733e+05          Large  -1.103533e+05      3.45    100.00     0.1\n",
      "    11  -1.093933e+05          Large  -1.103533e+05      0.88    100.00     0.1\n",
      " D  12  -1.086313e+05          Large  -1.093933e+05      0.70    100.00     0.1\n",
      " D  13  -1.083900e+05          Large  -1.086313e+05      0.22    100.00     0.2\n",
      " D  14  -1.083900e+05          Large  -1.083900e+05      0.00    100.00     0.2\n",
      "Tr  STOP with gap tolerance +4.365575e-11 (0.00%).\n",
      "Best lower bound -1.083900e+05, time elapsed: 0.17 sec.\n",
      "presolving (2 rounds):\n",
      " 0 deleted vars, 0 deleted constraints, 0 added constraints, 4 tightened bounds, 0 added holes, 0 changed sides, 0 changed coefficients\n",
      " 0 implications, 0 cliques\n",
      "presolved problem has 4 variables (0 bin, 3 int, 0 impl, 1 cont) and 3 constraints\n",
      "\n",
      " time | node  | left  |LP iter|LP it/n| mem |mdpt |frac |vars |cons |cols |rows |cuts |confs|strbr|  dualbound   | primalbound  |  gap   \n",
      "* 0.0s|     1 |     0 |    32 |     - | 196k|   0 |   - |   4 |   3 |   4 |  20 |  20 |   0 |   0 |-1.083900e+05 |-1.083900e+05 |   0.00%\n",
      "\n",
      "SCIP Status        : problem is solved [optimal solution found]\n",
      "Solving Time (sec) : 0.02\n",
      "Solving Nodes      : 1\n",
      "Primal Bound       : -1.08390000000000e+05 (1 solutions)\n",
      "Dual Bound         : -1.08390000000000e+05\n",
      "Gap                : 0.00 %\n"
     ]
    },
    {
     "data": {
      "text/plain": [
       ":Optimal"
      ]
     },
     "execution_count": 12,
     "metadata": {},
     "output_type": "execute_result"
    }
   ],
   "source": [
    "# Dsp solve types\n",
    "solve_types = [:Dual, :Benders, :Extensive]\n",
    "\n",
    "# Default parameter file\n",
    "myparam = joinpath(dirname(@__FILE__),\"DSP/parameters/default.txt\")\n",
    "\n",
    "status = solve(m, solve_type = solve_types[2], param = myparam)\n",
    "\n"
   ]
  },
  {
   "cell_type": "code",
   "execution_count": 7,
   "metadata": {},
   "outputs": [
    {
     "name": "stdout",
     "output_type": "stream",
     "text": [
      "getprimobjval() = -108389.99999999996\n",
      "getdualobjval() = -108389.99999999996\n",
      "getprimvalue() = [170.0, 80.0, 250.0, 0.0, 0.0, 310.0, 48.0, 6000.0, 4.54747e-12, 0.0, 2.78533e-12, 225.0, 0.0, 5000.0, 0.0, 0.0, 48.0, 140.0, 0.0, 4000.0, 0.0]\n",
      "getdualvalue() = Float64[]\n"
     ]
    },
    {
     "data": {
      "text/plain": [
       "0-element Array{Float64,1}"
      ]
     },
     "execution_count": 7,
     "metadata": {},
     "output_type": "execute_result"
    }
   ],
   "source": [
    "@show getprimobjval()\n",
    "@show getdualobjval()\n",
    "@show getprimvalue()\n",
    "@show getdualvalue()"
   ]
  },
  {
   "cell_type": "code",
   "execution_count": 8,
   "metadata": {},
   "outputs": [
    {
     "data": {
      "text/plain": [
       "x: 1 dimensions:\n",
       "[1] = 170.00000000000077\n",
       "[2] = 79.99999999999908\n",
       "[3] = 250.0000000000002"
      ]
     },
     "execution_count": 8,
     "metadata": {},
     "output_type": "execute_result"
    }
   ],
   "source": [
    "getvalue(x)"
   ]
  },
  {
   "cell_type": "code",
   "execution_count": 13,
   "metadata": {},
   "outputs": [
    {
     "data": {
      "text/plain": [
       "3-element Array{Any,1}:\n",
       " [0.0, 2.78533e-12, 225.0, 0.0, 5000.0, 0.0] \n",
       " [0.0, 48.0, 140.0, 0.0, 4000.0, 0.0]        \n",
       " [0.0, 0.0, 310.0, 48.0, 6000.0, 4.54747e-12]"
      ]
     },
     "execution_count": 13,
     "metadata": {},
     "output_type": "execute_result"
    }
   ],
   "source": [
    "getblocksolution(m)"
   ]
  },
  {
   "cell_type": "code",
   "execution_count": null,
   "metadata": {},
   "outputs": [],
   "source": []
  },
  {
   "cell_type": "code",
   "execution_count": null,
   "metadata": {},
   "outputs": [],
   "source": []
  }
 ],
 "metadata": {
  "kernelspec": {
   "display_name": "Julia 0.6.1",
   "language": "julia",
   "name": "julia-0.6"
  },
  "language_info": {
   "file_extension": ".jl",
   "mimetype": "application/julia",
   "name": "julia",
   "version": "0.6.1"
  }
 },
 "nbformat": 4,
 "nbformat_minor": 2
}
