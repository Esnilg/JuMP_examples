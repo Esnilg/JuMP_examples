{
 "cells": [
  {
   "cell_type": "markdown",
   "metadata": {},
   "source": [
    "## Stochastic Programming Example Using StochJump and DSP"
   ]
  },
  {
   "cell_type": "markdown",
   "metadata": {},
   "source": [
    "## Farmer Crop Optimization"
   ]
  },
  {
   "cell_type": "markdown",
   "metadata": {},
   "source": [
    "## Model Data"
   ]
  },
  {
   "cell_type": "markdown",
   "metadata": {},
   "source": [
    "#### Here, we setup the data relevant to the farmer model.  We set 3 possible scenarios of equal probability, and then three sets of crops to plant with the associated costs of planting each crop.  We also define the total budget.  The second stage model data adds the possiblity to purchase and sell crops with corresponding purchase and sell prices."
   ]
  },
  {
   "cell_type": "code",
   "execution_count": 1,
   "metadata": {
    "collapsed": false
   },
   "outputs": [
    {
     "name": "stdout",
     "output_type": "stream",
     "text": [
      "\n"
     ]
    }
   ],
   "source": [
    "# Farmer example from Birge and Louveaux book.\n",
    "\n",
    "# STOCHASTIC MODELING FRAMEWORK\n",
    "\n",
    "NS = 3;                        # number of scenarios\n",
    "probability = [1/3, 1/3, 1/3]; # probability\n",
    "\n",
    "\n",
    "# FIRST-STAGE MODEL\n",
    "CROPS = 1:3; # set of crops (wheat, corn and sugar beets, resp.)\n",
    "Cost = [150 230 260]; # cost of planting crops\n",
    "Budget = 500; # budget capacity\n",
    "\n",
    "\n",
    "# SECOND-STAGE MODELS\n",
    "PURCH = 1:2; # set of crops to purchase (wheat and corn, resp.)\n",
    "SELL  = 1:4; # set of crops to sell (wheat, corn, sugar beets under 6K and those over 6K)\n",
    "Purchase = [238 210;\n",
    "            238 210;\n",
    "            238 210];   # purchase price\n",
    "Sell = [170 150 36 10;\n",
    "        170 150 36 10;\n",
    "        170 150 36 10]; # selling price\n",
    "Yield = [3.0 3.6 24.0;\n",
    "         2.5 3.0 20.0;\n",
    "         2.0 2.4 16.0];\n",
    "Minreq = [200 240 0;\n",
    "          200 240 0;\n",
    "          200 240 0]; # minimum crop requirement\n",
    "println(\"\")"
   ]
  },
  {
   "cell_type": "markdown",
   "metadata": {},
   "source": [
    "## Model Expression"
   ]
  },
  {
   "cell_type": "markdown",
   "metadata": {},
   "source": [
    "#### Using the actual data defined above, we express the model using StochJuMP macros in terms of first and second stage variables."
   ]
  },
  {
   "cell_type": "code",
   "execution_count": 2,
   "metadata": {
    "collapsed": false
   },
   "outputs": [
    {
     "name": "stdout",
     "output_type": "stream",
     "text": [
      "Min 150 x[1] + 230 x[2] + 260 x[3]\n",
      "Subject to\n",
      " x[1] + x[2] + x[3] ≤ 500\n",
      " x[i] ≥ 0, integer, ∀ i ∈ {1,2,3}\n"
     ]
    }
   ],
   "source": [
    "using MPI, StochJuMP, DSPsolver\n",
    "# CREATE STOCHASTIC MODEL\n",
    "ENV[\"LD_LIBRARY_PATH\"] = \"DSP/lib\"\n",
    "m = StochasticModel(NS);\n",
    "\n",
    "\n",
    "# FIRST-STAGE MODEL\n",
    "\n",
    "# first-stage variables\n",
    "@defVar(m, x[i=CROPS] >= 0, Int)\n",
    "\n",
    "# first-stage objective\n",
    "@setObjective(m, Min, sum{Cost[i] * x[i], i=CROPS})\n",
    "\n",
    "# first-stage constraint\n",
    "@addConstraint(m, const_budget,\n",
    "               sum{x[i], i=CROPS} <= Budget)\n",
    "\n",
    "\n",
    "# SECOND-STAGE MODELS\n",
    "\n",
    "@second_stage m s begin\n",
    "    # stochastic block\n",
    "    sb = StochasticBlock(m, probability[s]);\n",
    "\n",
    "    # second-stage variables\n",
    "    @defVar(sb, y[j=PURCH] >= 0)\n",
    "    @defVar(sb, w[k=SELL] >= 0)\n",
    "\n",
    "    # objective\n",
    "    @setObjective(sb, Min,\n",
    "                  sum{Purchase[s,j] * y[j], j=PURCH}\n",
    "                  - sum{Sell[s,k] * w[k], k=SELL})\n",
    "\n",
    "    # constraints\n",
    "    @addConstraint(sb, const_minreq[j=PURCH],\n",
    "                   Yield[s,j] * x[j] + y[j] - w[j] >= Minreq[s,j])\n",
    "    @addConstraint(sb, const_minreq_beets,\n",
    "                   Yield[s,3] * x[3] - w[3] - w[4] >= Minreq[s,3])\n",
    "    @addConstraint(sb, const_aux, w[3] <= 6000)\n",
    "end\n",
    "\n",
    "print(m)"
   ]
  },
  {
   "cell_type": "markdown",
   "metadata": {},
   "source": [
    "#### Using StochJuMP, we have produced the complete optimization problem in standard form"
   ]
  },
  {
   "cell_type": "markdown",
   "metadata": {},
   "source": [
    "# Solving With DSP"
   ]
  },
  {
   "cell_type": "markdown",
   "metadata": {},
   "source": [
    "#### Finally, We use the DSP Solver to solve the optimization problem and output the results"
   ]
  },
  {
   "cell_type": "code",
   "execution_count": 3,
   "metadata": {
    "collapsed": false
   },
   "outputs": [
    {
     "name": "stderr",
     "output_type": "stream",
     "text": [
      "\n",
      "Phase 1:\n",
      "Creating Benders sub problems ... (0.00 sec)\n",
      "Finding global lower bound ... (0.00 sec) -> Lower bound -1.154056e+05\n",
      "Creating master problem instance ... (0.01 sec)\n",
      "\n",
      "Phase 2:\n",
      "\n",
      "Collecting results ... (0.00 sec)\n"
     ]
    },
    {
     "name": "stdout",
     "output_type": "stream",
     "text": [
      "presolving (2 rounds):\n",
      " 0 deleted vars, 0 deleted constraints, 0 added constraints, 4 tightened bounds, 0 added holes, 0 changed sides, 0 changed coefficients\n",
      " 0 implications, 0 cliques\n",
      "presolved problem has 4 variables (0 bin, 3 int, 0 impl, 1 cont) and 3 constraints\n",
      "\n",
      " time | node  | left  |LP iter|LP it/n| mem |mdpt |frac |vars |cons |cols |rows |cuts |confs|strbr|  dualbound   | primalbound  |  gap   \n",
      "* 0.0s|     1 |     0 |    21 |     - | 187k|   0 |   - |   4 |   3 |   4 |  15 |  14 |   0 |   0 |-1.083900e+05 |-1.083900e+05 |   0.00%\n",
      "\n",
      "SCIP Status        : problem is solved [optimal solution found]\n",
      "Solving Time (sec) : 0.01\n",
      "Solving Nodes      : 1\n",
      "Primal Bound       : -1.08390000000000e+05 (1 solutions)\n",
      "Dual Bound         : -1.08390000000000e+05\n",
      "Gap                : 0.00 %\n",
      "Solution Status: Optimal\n",
      "Primal Bound   : -108389.99999999999\n",
      "Dual Bound     : -108390.00000000003\n"
     ]
    }
   ],
   "source": [
    "option = \"BD\"\n",
    "\n",
    "if option == \"DD\"\n",
    "\tMPI.Init();\n",
    "end\n",
    "\n",
    "# data file\n",
    "#include(\"farmer_data.jl\")\n",
    "\n",
    "# model file\n",
    "#include(\"farmer_model.jl\")\n",
    "\n",
    "# load problem to model object\n",
    "DSPsolver.loadProblem(m);\n",
    "\n",
    "# set parameters\n",
    "DSPsolver.setIntParam(\"LOG_LEVEL\",1);\n",
    "DSPsolver.setIntParam(\"ITER_LIM\",100);\n",
    "DSPsolver.setDblParam(\"SCIP/GAP_TOL\",0.0);\n",
    "\n",
    "# solve problem\n",
    "if option == \"DE\"\n",
    "\tDSPsolver.solve(DSP_SOLVER_DE);\n",
    "elseif option == \"BD\"\n",
    "\tDSPsolver.setIntParam(\"BD/NUM_CORES\",1);\n",
    "\tDSPsolver.solve(DSP_SOLVER_BD);\n",
    "elseif option == \"DD\"\n",
    "\tDSPsolver.setIntParam(\"DD/FEAS_CUTS\",1);\n",
    "\tDSPsolver.setIntParam(\"DD/OPT_CUTS\",1);\n",
    "\tDSPsolver.setIntParam(\"DD/EVAL_UB\",1);\n",
    "\tDSPsolver.setIntParam(\"DD/MASTER_ALGO\",IPM_FEAS);\n",
    "\tDSPsolver.solve(DSP_SOLVER_DD);\n",
    "end\n",
    "\n",
    "if MPI.Initialized() == false || MPI.Comm_rank(MPI.COMM_WORLD) == 0\n",
    "\t# print some results\n",
    "\tprintln(\"Solution Status: \", DSPsolver.getSolutionStatus());\n",
    "\tprintln(\"Primal Bound   : \", DSPsolver.getPrimalBound());\n",
    "\tprintln(\"Dual Bound     : \", DSPsolver.getDualBound());\n",
    "end\n",
    "\n",
    "if option == \"DD\"\n",
    "\tMPI.Finalize();\n",
    "end"
   ]
  }
 ],
 "metadata": {
  "kernelspec": {
   "display_name": "Julia 0.5.0-dev",
   "language": "julia",
   "name": "julia-0.5"
  },
  "language_info": {
   "file_extension": ".jl",
   "mimetype": "application/julia",
   "name": "julia",
   "version": "0.5.0"
  }
 },
 "nbformat": 4,
 "nbformat_minor": 0
}
