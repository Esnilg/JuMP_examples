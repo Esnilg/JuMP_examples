{
 "cells": [
  {
   "cell_type": "code",
   "execution_count": 9,
   "metadata": {},
   "outputs": [],
   "source": [
    "using JuMP, GLPKMathProgInterface, Clp, Cbc\n",
    "#using CPLEX\n",
    "using MathProgBase"
   ]
  },
  {
   "cell_type": "code",
   "execution_count": 3,
   "metadata": {},
   "outputs": [],
   "source": [
    "#numbers = rand(5000,5000);\n",
    "#writedlm(\"test.txt\", numbers)\n",
    "#numbers = readdlm(\"test.txt\");"
   ]
  },
  {
   "cell_type": "code",
   "execution_count": 4,
   "metadata": {},
   "outputs": [
    {
     "data": {
      "text/plain": [
       "crearDict (generic function with 1 method)"
      ]
     },
     "execution_count": 4,
     "metadata": {},
     "output_type": "execute_result"
    }
   ],
   "source": [
    "function crearDict(conjunto)\n",
    "    cont = 1;\n",
    "    dict = Dict();\n",
    "    for i in conjunto\n",
    "        dict[i] = cont\n",
    "        cont +=1;\n",
    "    end\n",
    "    return dict\n",
    "end"
   ]
  },
  {
   "cell_type": "code",
   "execution_count": 5,
   "metadata": {},
   "outputs": [
    {
     "data": {
      "text/plain": [
       "Dict{String,Array{String,1}} with 5 entries:\n",
       "  \"ELECTRICITY\"        => String[\"NUCLEAR\", \"CCGT\", \"CCGT_CCS\", \"COAL_US\", \"COA…\n",
       "  \"MOBILITY_PASSENGER\" => String[\"TRAMWAY_TROLLEY\", \"BUS_COACH_DIESEL\", \"BUS_CO…\n",
       "  \"HEAT_HIGH_T\"        => String[\"IND_COGEN_GAS\", \"IND_COGEN_WOOD\", \"IND_COGEN_…\n",
       "  \"HEAT_LOW_T\"         => String[\"DHN_HP_ELEC\", \"DHN_COGEN_GAS\", \"DHN_COGEN_WOO…\n",
       "  \"MOBILITY_FREIGHT\"   => String[\"TRAIN_FREIGHT\", \"TRUCK\"]"
      ]
     },
     "execution_count": 5,
     "metadata": {},
     "output_type": "execute_result"
    }
   ],
   "source": [
    "## MAIN SETS\n",
    "include(\"Conjuntos_ses_main.jl\")"
   ]
  },
  {
   "cell_type": "code",
   "execution_count": 6,
   "metadata": {},
   "outputs": [],
   "source": [
    "LAYERSD = crearDict(LAYERS);\n",
    "TECHNOLOGIESD = crearDict(TECHNOLOGIES);\n",
    "RESOURCESD = crearDict(RESOURCES);\n",
    "TECHNOLOGIESdiffINFRASTRUCTURED = crearDict(setdiff(TECHNOLOGIES,INFRASTRUCTURE));\n",
    "TECHNOLOGIES_OF_END_USES_TYPEHDD = crearDict(setdiff(TECHNOLOGIES_OF_END_USES_TYPE[\"HEAT_LOW_T_DECEN\"],[\"DEC_SOLAR\"]));\n",
    "STORAGE_TECHD = crearDict(STORAGE_TECH);\n",
    "END_USES_TYPESD = crearDict(END_USES_TYPES);\n",
    "op_strategy_mob_privateD = crearDict(union(TECHNOLOGIES_OF_END_USES_CATEGORY[\"MOBILITY_PASSENGER\"],TECHNOLOGIES_OF_END_USES_CATEGORY[\"MOBILITY_FREIGHT\"]));"
   ]
  },
  {
   "cell_type": "code",
   "execution_count": 7,
   "metadata": {},
   "outputs": [
    {
     "data": {
      "text/plain": [
       "8760"
      ]
     },
     "execution_count": 7,
     "metadata": {},
     "output_type": "execute_result"
    }
   ],
   "source": [
    "## PARAMETERS\n",
    "include(\"datos_ses_main.jl\")"
   ]
  },
  {
   "cell_type": "code",
   "execution_count": 10,
   "metadata": {},
   "outputs": [],
   "source": [
    "## leer modelo\n",
    "include(\"modelo_ses_main.jl\");"
   ]
  },
  {
   "cell_type": "code",
   "execution_count": 11,
   "metadata": {},
   "outputs": [],
   "source": [
    "#include(\"solucion.jl\")"
   ]
  },
  {
   "cell_type": "code",
   "execution_count": 12,
   "metadata": {},
   "outputs": [],
   "source": [
    "#include(\"factibilidad.jl\")\n",
    "#factibilidad(6)"
   ]
  },
  {
   "cell_type": "code",
   "execution_count": 13,
   "metadata": {},
   "outputs": [
    {
     "data": {
      "text/plain": [
       "13668.185984877602"
      ]
     },
     "execution_count": 13,
     "metadata": {},
     "output_type": "execute_result"
    }
   ],
   "source": [
    "status = solve(modelo)\n",
    "getobjectivevalue(modelo)"
   ]
  },
  {
   "cell_type": "code",
   "execution_count": 14,
   "metadata": {},
   "outputs": [
    {
     "data": {
      "text/latex": [
       "$$ F_Mult_t_{POWER2GAS,1} - F_Mult_t_{POWER2GAS,12} - 744 Storage_In_{POWER2GAS,LNG,1} + 744 Storage_Out_{POWER2GAS,LNG,1} = 0 $$"
      ],
      "text/plain": [
       "F_Mult_t[POWER2GAS,1] - F_Mult_t[POWER2GAS,12] - 744 Storage_In[POWER2GAS,LNG,1] + 744 Storage_Out[POWER2GAS,LNG,1] = 0"
      ]
     },
     "execution_count": 14,
     "metadata": {},
     "output_type": "execute_result"
    }
   ],
   "source": [
    "LinearConstraint(storage_level[1,1])"
   ]
  },
  {
   "cell_type": "code",
   "execution_count": 15,
   "metadata": {},
   "outputs": [
    {
     "name": "stdout",
     "output_type": "stream",
     "text": [
      "NaN\n"
     ]
    }
   ],
   "source": [
    "println(getdual(totalGWP_calc))"
   ]
  },
  {
   "cell_type": "code",
   "execution_count": 20,
   "metadata": {},
   "outputs": [],
   "source": [
    "#f = open(\"model.lp\", \"w\")\n",
    "#print(f, modelo)\n",
    "#close(f)"
   ]
  },
  {
   "cell_type": "code",
   "execution_count": 19,
   "metadata": {},
   "outputs": [],
   "source": [
    "f = open(\"solucion.txt\", \"w\")\n",
    "for i in TECHNOLOGIES\n",
    "    println(f,\"let Number_Of_Units['$(i)'] := $(getvalue(Number_Of_Units[i]));\")\n",
    "    println(f,\"let F_Mult['$(i)'] := $(getvalue(F_Mult[i]));\")\n",
    "    println(f,\"let C_inv['$(i)'] := $(getvalue(C_inv[i]));\")\n",
    "    println(f,\"let C_maint['$(i)'] := $(getvalue(C_maint[i]));\")\n",
    "    println(f,\"let Y_Solar_Backup['$(i)'] := $(getvalue(Y_Solar_Backup[i]));\")\n",
    "    println(f,\"let GWP_constr['$(i)'] := $(getvalue(GWP_constr[i]));\")\n",
    "end\n",
    "\n",
    "for i in LAYERS, t in PERIODS\n",
    "    println(f,\"let End_Uses['$(i)',$(t)] := $(getvalue(End_Uses[i,t]));\")\n",
    "end\n",
    "\n",
    "for i in union(RESOURCES,TECHNOLOGIES), t in PERIODS\n",
    "    println(f,\"let F_Mult_t['$(i)',$(t)] := $(getvalue(F_Mult_t[i,t]));\")\n",
    "end\n",
    "\n",
    "for i in RESOURCES\n",
    "    println(f,\"let C_op['$(i)'] := $(getvalue(C_op[i]));\")\n",
    "end\n",
    "\n",
    "for in i STORAGE_TECH, j in LAYERS, t in PERIODS\n",
    "    println(f,\"Storage_In['$(i)','$(j)',$(t)] := $(getvalue(Storage_In[i,j,t]));\")\n",
    "\n",
    "close(f)"
   ]
  },
  {
   "cell_type": "code",
   "execution_count": null,
   "metadata": {},
   "outputs": [],
   "source": [
    "MathProgBase.numvar(modelo) # devuelve el numero de variables\n",
    "MathProgBase.numlinconstr(modelo) # devuelve el numero de restricciones lineales"
   ]
  }
 ],
 "metadata": {
  "kernelspec": {
   "display_name": "Julia 0.6.1",
   "language": "julia",
   "name": "julia-0.6"
  },
  "language_info": {
   "file_extension": ".jl",
   "mimetype": "application/julia",
   "name": "julia",
   "version": "0.6.1"
  }
 },
 "nbformat": 4,
 "nbformat_minor": 2
}
