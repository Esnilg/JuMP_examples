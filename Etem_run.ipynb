{
 "cells": [
  {
   "cell_type": "code",
   "execution_count": 5,
   "metadata": {},
   "outputs": [
    {
     "data": {
      "text/plain": [
       "4-element Array{Any,1}:\n",
       " \"/home/esnil/Descargas/julia-0d7248e2ff/local/share/julia/site/v0.6\"\n",
       " \"/home/esnil/Descargas/julia-0d7248e2ff/share/julia/site/v0.6\"      \n",
       " \"/home/esnil/Dropbox/Proyecto_Energia/Julia_JuMP/ETEM/\"             \n",
       " \"/home/esnil/Dropbox/Proyecto_Energia/Julia_JuMP/ETEM\"              "
      ]
     },
     "execution_count": 5,
     "metadata": {},
     "output_type": "execute_result"
    }
   ],
   "source": [
    "using ExcelReaders\n",
    "using DataFrames\n",
    "using JuMP\n",
    "using Clp\n",
    "using GLPKMathProgInterface\n",
    "using CSV\n",
    "\n",
    "push!(LOAD_PATH, pwd());\n"
   ]
  },
  {
   "cell_type": "code",
   "execution_count": 10,
   "metadata": {},
   "outputs": [],
   "source": [
    "\n",
    "# leer datos\n",
    "include(\"leerData2.jl\");\n",
    "\n",
    "# leer modelo\n",
    "include(\"modeloEtem.jl\");\n",
    "\n"
   ]
  },
  {
   "cell_type": "code",
   "execution_count": 11,
   "metadata": {},
   "outputs": [
    {
     "name": "stdout",
     "output_type": "stream",
     "text": [
      "Optimal\n"
     ]
    },
    {
     "data": {
      "text/plain": [
       "18532.392682779362"
      ]
     },
     "execution_count": 11,
     "metadata": {},
     "output_type": "execute_result"
    }
   ],
   "source": [
    "status = solve(modelo)\n",
    "\n",
    "println(status)\n",
    "\n",
    "getobjectivevalue(modelo)"
   ]
  },
  {
   "cell_type": "code",
   "execution_count": null,
   "metadata": {},
   "outputs": [],
   "source": []
  },
  {
   "cell_type": "code",
   "execution_count": null,
   "metadata": {},
   "outputs": [],
   "source": []
  }
 ],
 "metadata": {
  "kernelspec": {
   "display_name": "Julia 0.6.1",
   "language": "julia",
   "name": "julia-0.6"
  },
  "language_info": {
   "file_extension": ".jl",
   "mimetype": "application/julia",
   "name": "julia",
   "version": "0.6.1"
  }
 },
 "nbformat": 4,
 "nbformat_minor": 2
}
