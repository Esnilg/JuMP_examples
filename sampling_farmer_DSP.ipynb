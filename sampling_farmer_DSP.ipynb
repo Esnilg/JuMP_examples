{
 "cells": [
  {
   "cell_type": "code",
   "execution_count": 1,
   "metadata": {},
   "outputs": [
    {
     "data": {
      "text/plain": [
       "\"libDsp\""
      ]
     },
     "execution_count": 1,
     "metadata": {},
     "output_type": "execute_result"
    }
   ],
   "source": [
    "Libdl.find_library([\"libDsp\"])"
   ]
  },
  {
   "cell_type": "code",
   "execution_count": 2,
   "metadata": {},
   "outputs": [],
   "source": [
    "using JuMP, Dsp, Distributions"
   ]
  },
  {
   "cell_type": "code",
   "execution_count": 30,
   "metadata": {},
   "outputs": [],
   "source": [
    "srand(123)\n",
    "\n",
    "CROPS  = 1:3 # set of crops (wheat, corn and sugar beets, resp.)\n",
    "PURCH  = 1:2 # set of crops to purchase (wheat and corn, resp.)\n",
    "SELL   = 1:4 # set of crops to sell (wheat, corn, sugar beets under 6K and those over 6K)\n",
    "\n",
    "NS = 100;                    # number of scenarios\n",
    "NP = 3;\n",
    "S = collect(1:NS)           # scenario set\n",
    "P = collect(1:NP)           # set of crops (1=wheat,2=corn,3=beets)\n",
    "\n",
    "probability = ones(NS)/NS\n",
    "\n",
    "Cost     = [150 230 260]   # cost of planting crops\n",
    "Budget   = 500             # budget capacity\n",
    "Purchase = [238 210];      # purchase price\n",
    "Sell     = [170 150 36 10] # selling price\n",
    "Minreq   = [200 240 0]     # minimum crop requirement\n",
    "\n",
    "\n",
    "# assign random data\n",
    "Yield = zeros(length(S),NP)\n",
    "d = Uniform(5,20)\n",
    "for j in 1:(NP)\n",
    "    Yield[S,j] = rand(d,NS)[S]\n",
    "end\n",
    "#d = Uniform(10,30)\n",
    "#Yield[S,NP] = rand(d,NS)[S];\n",
    "\n",
    "Budget = 500\n",
    "\n",
    "# JuMP model\n",
    "m = Model(NS)\n",
    "\n",
    "@variable(m, x[i=CROPS] >= 0, Int)\n",
    "@objective(m, Min, sum(Cost[i] * x[i] for i=CROPS))\n",
    "@constraint(m, const_budget, sum(x[i] for i=CROPS) <= Budget)\n",
    "\n",
    "for s in blockids()\n",
    "    blk = Model(m, s, probability[s])\n",
    "\n",
    "    @variable(blk, y[j=PURCH] >= 0)\n",
    "    @variable(blk, w[k=SELL] >= 0)\n",
    "\n",
    "    @objective(blk, Min, sum(Purchase[j] * y[j] for j=PURCH) - sum(Sell[k] * w[k] for k=SELL))\n",
    "\n",
    "    @constraint(blk, const_minreq[j=PURCH], Yield[s,j] * x[j] + y[j] - w[j] >= Minreq[j])\n",
    "    @constraint(blk, const_minreq_beets, Yield[s,3] * x[3] - w[3] - w[4] >= Minreq[3])\n",
    "    @constraint(blk, const_aux, w[3] <= 6000)\n",
    "end\n"
   ]
  },
  {
   "cell_type": "code",
   "execution_count": 31,
   "metadata": {},
   "outputs": [
    {
     "name": "stdout",
     "output_type": "stream",
     "text": [
      "Min 150 x[1] + 230 x[2] + 260 x[3]\n",
      "Subject to\n",
      " x[1] + x[2] + x[3] ≤ 500\n",
      " x[i] ≥ 0, integer, ∀ i ∈ {1,2,3}\n"
     ]
    }
   ],
   "source": [
    "print(m)"
   ]
  },
  {
   "cell_type": "code",
   "execution_count": 32,
   "metadata": {},
   "outputs": [
    {
     "name": "stdout",
     "output_type": "stream",
     "text": [
      "Finding a good lower bound using Dual Decomposition...\n",
      "CPLEX is not available for QP solve.\n",
      "\n",
      "DUAL DECOMPOSITION ITERATION INFORMATION:\n",
      "* master   = objective function value of the master problem.\n",
      "* primobj  = best primal objective function value.\n",
      "* dualobj  = best dual objective function value.\n",
      "* a.gap(%) = Approximate gap between master and dualobj.\n",
      "* d.gap(%) = Duality gap between primobj and dualobj.\n",
      "* times    = wall clock time in seconds.\n",
      "\n",
      "  iter         master        primobj        dualobj  a.gap(%)  d.gap(%)    time\n",
      " D   0  -1.035329e+06          Large  -1.069031e+06      3.26    100.00     0.2\n",
      " D   1  -9.679253e+05          Large  -1.040442e+06      7.49    100.00     0.7\n",
      " D   2  -9.005213e+05          Large  -1.005414e+06     11.65    100.00     1.1\n",
      " D   3  -8.331173e+05          Large  -1.004915e+06     20.62    100.00     1.4\n",
      "     4  -9.560458e+05          Large  -1.004915e+06      5.11    100.00     1.8\n",
      " D   5  -9.307074e+05          Large  -9.599553e+05      3.14    100.00     2.1\n",
      "     6  -9.447971e+05          Large  -9.599553e+05      1.60    100.00     2.5\n",
      " D   7  -9.447677e+05          Large  -9.491344e+05      0.46    100.00     2.9\n",
      "     8  -9.457378e+05          Large  -9.491344e+05      0.36    100.00     3.3\n",
      "     9  -9.457638e+05          Large  -9.491344e+05      0.36    100.00     3.7\n",
      " D  10  -9.456614e+05          Large  -9.460429e+05      0.04    100.00     4.0\n",
      "    11  -9.458503e+05          Large  -9.460429e+05      0.02    100.00     4.4\n",
      " D  12  -9.457704e+05          Large  -9.458525e+05      0.01    100.00     4.8\n",
      "    13  -9.457959e+05          Large  -9.458525e+05      0.01    100.00     5.2\n",
      " D  14  -9.457715e+05          Large  -9.457982e+05      0.00    100.00     5.5\n",
      " D  15  -9.457715e+05          Large  -9.457738e+05      0.00    100.00     5.9\n",
      "Tr  STOP with gap tolerance +2.285350e+00 (0.00%).\n",
      "Best lower bound -9.457738e+05, time elapsed: 5.88 sec.\n",
      "presolving (2 rounds):\n",
      " 0 deleted vars, 0 deleted constraints, 0 added constraints, 4 tightened bounds, 0 added holes, 0 changed sides, 0 changed coefficients\n",
      " 0 implications, 0 cliques\n",
      "presolved problem has 4 variables (0 bin, 3 int, 0 impl, 1 cont) and 3 constraints\n",
      "\n",
      " time | node  | left  |LP iter|LP it/n| mem |mdpt |frac |vars |cons |cols |rows |cuts |confs|strbr|  dualbound   | primalbound  |  gap   \n",
      "R 0.2s|     1 |     0 |     9 |     - | 185k|   0 |   2 |   4 |   3 |   4 |   9 |   8 |   0 |   0 |-9.457738e+05 |-9.457186e+05 |   0.01%\n",
      "G 0.2s|     1 |     0 |    10 |     - | 187k|   0 |   - |   4 |   3 |   4 |  10 |   9 |   0 |   0 |-9.457738e+05 |-9.457510e+05 |   0.00%\n",
      "s 0.2s|     1 |     0 |    10 |     - | 186k|   0 |   2 |   4 |   3 |   4 |  10 |   9 |   0 |   0 |-9.457738e+05 |-9.457723e+05 |   0.00%\n",
      "  0.2s|     1 |     2 |    10 |     - | 188k|   0 |   2 |   4 |   3 |   4 |  10 |   9 |   0 |   0 |-9.457738e+05 |-9.457723e+05 |   0.00%\n",
      "\n",
      "SCIP Status        : solving was interrupted [gap limit reached]\n",
      "Solving Time (sec) : 0.24\n",
      "Solving Nodes      : 1\n",
      "Primal Bound       : -9.45772269934552e+05 (3 solutions)\n",
      "Dual Bound         : -9.45773767536858e+05\n",
      "Gap                : 0.00 %\n"
     ]
    },
    {
     "name": "stderr",
     "output_type": "stream",
     "text": [
      "\u001b[1m\u001b[33mWARNING: \u001b[39m\u001b[22m\u001b[33mNot solved to optimality, status: GapTolerance\u001b[39m\n"
     ]
    },
    {
     "data": {
      "text/plain": [
       ":GapTolerance"
      ]
     },
     "execution_count": 32,
     "metadata": {},
     "output_type": "execute_result"
    }
   ],
   "source": [
    "# Dsp solve types\n",
    "solve_types = [:Dual, :Benders, :Extensive]\n",
    "\n",
    "# Default parameter file\n",
    "myparam = joinpath(dirname(@__FILE__),\"DSP/parameters/default.txt\")\n",
    "\n",
    "status = solve(m, solve_type = solve_types[2], param = myparam)"
   ]
  },
  {
   "cell_type": "code",
   "execution_count": 33,
   "metadata": {},
   "outputs": [
    {
     "data": {
      "text/plain": [
       "x: 1 dimensions:\n",
       "[1] = 485.0\n",
       "[2] = 15.0\n",
       "[3] = 0.0"
      ]
     },
     "execution_count": 33,
     "metadata": {},
     "output_type": "execute_result"
    }
   ],
   "source": [
    "getvalue(x)"
   ]
  },
  {
   "cell_type": "code",
   "execution_count": null,
   "metadata": {},
   "outputs": [],
   "source": []
  },
  {
   "cell_type": "code",
   "execution_count": null,
   "metadata": {},
   "outputs": [],
   "source": []
  }
 ],
 "metadata": {
  "kernelspec": {
   "display_name": "Julia 0.6.1",
   "language": "julia",
   "name": "julia-0.6"
  },
  "language_info": {
   "file_extension": ".jl",
   "mimetype": "application/julia",
   "name": "julia",
   "version": "0.6.1"
  }
 },
 "nbformat": 4,
 "nbformat_minor": 2
}
